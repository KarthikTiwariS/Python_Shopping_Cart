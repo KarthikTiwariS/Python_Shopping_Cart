{
 "cells": [
  {
   "cell_type": "code",
   "execution_count": 14,
   "id": "a5973a6e-d5fd-4057-82be-fa1767c8380c",
   "metadata": {},
   "outputs": [
    {
     "name": "stdin",
     "output_type": "stream",
     "text": [
      "Enter the FOOD (Q for quit):  churmuri\n",
      "Enter the price:  45\n",
      "Enter the FOOD (Q for quit):  gobi\n",
      "Enter the price:  50\n",
      "Enter the FOOD (Q for quit):  butter masal dose\n",
      "Enter the price:  110\n",
      "Enter the FOOD (Q for quit):  chocolate ice cream\n",
      "Enter the price:  90\n",
      "Enter the FOOD (Q for quit):  q\n"
     ]
    },
    {
     "name": "stdout",
     "output_type": "stream",
     "text": [
      "-----Your Items-----\n",
      "Churmuri Gobi Butter masal dose Chocolate ice cream \n",
      "Your total price is:💰295.0\n"
     ]
    }
   ],
   "source": [
    "foods = []\n",
    "prices = []\n",
    "total = 0.0\n",
    "\n",
    "while True:\n",
    "    food = input(\"Enter the FOOD (Q for quit): \").capitalize()\n",
    "    if food == \"Q\":\n",
    "        break\n",
    "    else:\n",
    "        price = float(input(\"Enter the price: \"))\n",
    "        foods.append(food)\n",
    "        prices.append(price)\n",
    "\n",
    "print(\"-----Your Items-----\")\n",
    "for f in foods:\n",
    "    print(f, end=\" \")\n",
    "print()\n",
    "for price in prices:\n",
    "    total += price\n",
    "    \n",
    "print(f\"Your total price is:💰{total:02}\")"
   ]
  }
 ],
 "metadata": {
  "kernelspec": {
   "display_name": "Python 3 (ipykernel)",
   "language": "python",
   "name": "python3"
  },
  "language_info": {
   "codemirror_mode": {
    "name": "ipython",
    "version": 3
   },
   "file_extension": ".py",
   "mimetype": "text/x-python",
   "name": "python",
   "nbconvert_exporter": "python",
   "pygments_lexer": "ipython3",
   "version": "3.12.7"
  }
 },
 "nbformat": 4,
 "nbformat_minor": 5
}
